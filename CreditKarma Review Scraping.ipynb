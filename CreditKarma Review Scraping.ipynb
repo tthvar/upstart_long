{
 "cells": [
  {
   "cell_type": "code",
   "execution_count": 13,
   "metadata": {},
   "outputs": [],
   "source": [
    "import pandas as pd\n",
    "import os\n",
    "from vaderSentiment.vaderSentiment import SentimentIntensityAnalyzer\n",
    "from bs4 import BeautifulSoup\n",
    "from statistics import mean "
   ]
  },
  {
   "cell_type": "markdown",
   "metadata": {},
   "source": [
    "## Personal Loan Companies Analyzed  \n",
    "1) Upstart: https://www.creditkarma.com/reviews/personal-loan/single/id/upstart-personal-loans   \n",
    "2) LendingPoint: https://www.creditkarma.com/reviews/personal-loan/single/id/lending-point-personal-loans  \n",
    "3) Marcus by Goldman Sachs: https://www.creditkarma.com/reviews/personal-loan/single/id/goldmansachs  \n",
    "4) Prosper Personal Loans: https://www.creditkarma.com/reviews/personal-loan/single/id/prosper-personal-loans  \n",
    "5) Upgrade: https://www.creditkarma.com/reviews/personal-loan/single/id/upgrade_personal  \n",
    "6) Best Egg: https://www.creditkarma.com/reviews/personal-loan/single/id/BestEgg  \n",
    "7) One Main Financial Personal Loans: https://www.creditkarma.com/reviews/personal-loan/single/id/onemain-financial-personal-loans  "
   ]
  },
  {
   "cell_type": "markdown",
   "metadata": {},
   "source": [
    "### Data Cleaning\n",
    "Remove any HTML tags in scraped content"
   ]
  },
  {
   "cell_type": "code",
   "execution_count": 14,
   "metadata": {},
   "outputs": [
    {
     "name": "stdout",
     "output_type": "stream",
     "text": [
      "Total Posts: 2084\n"
     ]
    }
   ],
   "source": [
    "posts = []\n",
    "names = []\n",
    "total_posts = 0\n",
    "for filename in os.listdir(\"./data\"):\n",
    "    if filename.endswith(\".csv\") and filename != \"lc_accepted.csv\":\n",
    "        post = pd.read_csv(\"./data/\" + filename, skiprows=[1])\n",
    "        total_posts += len(post)\n",
    "        post.rename(columns = {\"text\":filename}, inplace = True)\n",
    "        names.append(filename)\n",
    "        posts.append(post)\n",
    "    \n",
    "for post, filename in zip(posts, names):\n",
    "    post[filename] = [BeautifulSoup(text,\"lxml\").get_text() for text in post[filename] ]\n",
    "print(\"Total Posts:\", total_posts)"
   ]
  },
  {
   "cell_type": "markdown",
   "metadata": {},
   "source": [
    "### Data analysis\n",
    "Apply VADER toolkit to calculate cumulative positive sentiment among personal loan companies"
   ]
  },
  {
   "cell_type": "code",
   "execution_count": 15,
   "metadata": {},
   "outputs": [],
   "source": [
    "analyzer = SentimentIntensityAnalyzer()\n",
    "scores_map = {}\n",
    "for post, filename in zip(posts, names):\n",
    "    scores = []\n",
    "    for comment in post[filename]:\n",
    "        vs = analyzer.polarity_scores(comment)\n",
    "        scores.append(vs)\n",
    "    scores_map[filename] = scores"
   ]
  },
  {
   "cell_type": "code",
   "execution_count": 16,
   "metadata": {},
   "outputs": [],
   "source": [
    "cpd_sum = 0\n",
    "for company in scores_map:\n",
    "    scores = scores_map[company]\n",
    "    cpd_sum = 0\n",
    "    for score in scores:\n",
    "        cpd_sum += score[\"pos\"]\n",
    "    scores_map[company] = cpd_sum\n",
    "    \n",
    "ranks = dict(sorted(scores_map.items(), key=lambda item: item[1]))\n",
    "avg_rank = sum([ranks[company] for company in ranks]) / len(ranks)"
   ]
  },
  {
   "cell_type": "code",
   "execution_count": 45,
   "metadata": {},
   "outputs": [
    {
     "data": {
      "text/html": [
       "<div>\n",
       "<style scoped>\n",
       "    .dataframe tbody tr th:only-of-type {\n",
       "        vertical-align: middle;\n",
       "    }\n",
       "\n",
       "    .dataframe tbody tr th {\n",
       "        vertical-align: top;\n",
       "    }\n",
       "\n",
       "    .dataframe thead th {\n",
       "        text-align: right;\n",
       "    }\n",
       "</style>\n",
       "<table border=\"1\" class=\"dataframe\">\n",
       "  <thead>\n",
       "    <tr style=\"text-align: right;\">\n",
       "      <th></th>\n",
       "      <th>Company</th>\n",
       "      <th>Cumulative Positive VADER Sentiment</th>\n",
       "    </tr>\n",
       "  </thead>\n",
       "  <tbody>\n",
       "    <tr>\n",
       "      <th>7</th>\n",
       "      <td>upstart_reviews.csv</td>\n",
       "      <td>235.588000</td>\n",
       "    </tr>\n",
       "    <tr>\n",
       "      <th>6</th>\n",
       "      <td>upgrade_reviews.csv</td>\n",
       "      <td>87.393000</td>\n",
       "    </tr>\n",
       "    <tr>\n",
       "      <th>5</th>\n",
       "      <td>onemain_reviews.csv</td>\n",
       "      <td>75.500000</td>\n",
       "    </tr>\n",
       "    <tr>\n",
       "      <th>4</th>\n",
       "      <td>prosper_reviews.csv</td>\n",
       "      <td>55.836000</td>\n",
       "    </tr>\n",
       "    <tr>\n",
       "      <th>3</th>\n",
       "      <td>best_egg_reviews.csv</td>\n",
       "      <td>52.732000</td>\n",
       "    </tr>\n",
       "    <tr>\n",
       "      <th>2</th>\n",
       "      <td>lendingpoint_reviews.csv</td>\n",
       "      <td>26.514000</td>\n",
       "    </tr>\n",
       "    <tr>\n",
       "      <th>1</th>\n",
       "      <td>marcus_reviews.csv</td>\n",
       "      <td>19.436000</td>\n",
       "    </tr>\n",
       "    <tr>\n",
       "      <th>8</th>\n",
       "      <td>Average</td>\n",
       "      <td>78.999857</td>\n",
       "    </tr>\n",
       "  </tbody>\n",
       "</table>\n",
       "</div>"
      ],
      "text/plain": [
       "                    Company  Cumulative Positive VADER Sentiment\n",
       "7       upstart_reviews.csv                           235.588000\n",
       "6       upgrade_reviews.csv                            87.393000\n",
       "5       onemain_reviews.csv                            75.500000\n",
       "4       prosper_reviews.csv                            55.836000\n",
       "3      best_egg_reviews.csv                            52.732000\n",
       "2  lendingpoint_reviews.csv                            26.514000\n",
       "1        marcus_reviews.csv                            19.436000\n",
       "8                   Average                            78.999857"
      ]
     },
     "execution_count": 45,
     "metadata": {},
     "output_type": "execute_result"
    }
   ],
   "source": [
    "sent_df = pd.DataFrame()\n",
    "sent_df[\"Company\"] = []\n",
    "sent_df[\"Cumulative Positive VADER Sentiment\"] = []\n",
    "idx = 1\n",
    "for company in ranks:\n",
    "    sent_df.loc[idx] = [company, ranks[company]]\n",
    "    idx += 1\n",
    "sent_df.sort_values(by = [\"Cumulative Positive VADER Sentiment\"], inplace = True, ascending = False)\n",
    "sent_df.loc[idx] = [\"Average\", avg_rank]\n",
    "sent_df"
   ]
  }
 ],
 "metadata": {
  "kernelspec": {
   "display_name": "Python 3",
   "language": "python",
   "name": "python3"
  },
  "language_info": {
   "codemirror_mode": {
    "name": "ipython",
    "version": 3
   },
   "file_extension": ".py",
   "mimetype": "text/x-python",
   "name": "python",
   "nbconvert_exporter": "python",
   "pygments_lexer": "ipython3",
   "version": "3.7.3"
  }
 },
 "nbformat": 4,
 "nbformat_minor": 2
}
